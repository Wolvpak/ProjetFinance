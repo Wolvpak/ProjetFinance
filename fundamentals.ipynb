{
 "cells": [
  {
   "cell_type": "code",
   "execution_count": 41,
   "id": "735c9feb",
   "metadata": {},
   "outputs": [],
   "source": [
    "import fundamentalanalysis as fa\n",
    "import pandas as pd\n",
    "import numpy as np\n",
    "from tqdm import tqdm\n",
    "import matplotlib.pyplot as plt\n",
    "import yfinance as yf\n",
    "from main import db_fundamentals_summary, download_stocks_fundamentals, get_euronext_tickers\n",
    "import pickle\n",
    "\n",
    "tickers_with_clusters = pd.read_pickle('clust_162.pickle')"
   ]
  },
  {
   "cell_type": "code",
   "execution_count": 61,
   "id": "9fb133e8",
   "metadata": {},
   "outputs": [],
   "source": [
    "def get_ticker_info(ticker):\n",
    "    yf_data = yf.Ticker(ticker).info\n",
    "    ratios = ['sector','industry','trailingPE','priceToBook','priceToSalesTrailing12Months','returnOnEquity','debtToEquity','returnOnAssets']\n",
    "    disp_ratios = [ratio for ratio in yf_data if ratio in ratios]\n",
    "    return pd.DataFrame({ratio : [yf_data[ratio]] for ratio in disp_ratios}, index=[ticker])\n",
    "\n",
    "def get_tickers_info(ticker_list):\n",
    "    db_data = pd.DataFrame()\n",
    "    for ticker in tqdm(ticker_list):\n",
    "        try:\n",
    "            db_data = pd.concat([db_data, get_ticker_info(ticker)], axis=0)\n",
    "        except:\n",
    "            None\n",
    "    return db_data"
   ]
  },
  {
   "cell_type": "code",
   "execution_count": 62,
   "id": "3d92dd06",
   "metadata": {},
   "outputs": [
    {
     "name": "stderr",
     "output_type": "stream",
     "text": [
      "100%|██████████| 249/249 [07:57<00:00,  1.92s/it]\n"
     ]
    }
   ],
   "source": [
    "clust_info = get_tickers_info(tickers_with_clusters.index)"
   ]
  },
  {
   "cell_type": "code",
   "execution_count": 65,
   "id": "eb9fcf23",
   "metadata": {},
   "outputs": [],
   "source": [
    "merged_df = pd.concat([clust_info,tickers_with_clusters], axis=1)\n",
    "merged_df.to_excel('industry_cluster_comparison.xlsx')"
   ]
  }
 ],
 "metadata": {
  "kernelspec": {
   "display_name": "Python 3 (Spyder)",
   "language": "python3",
   "name": "python3"
  },
  "language_info": {
   "codemirror_mode": {
    "name": "ipython",
    "version": 3
   },
   "file_extension": ".py",
   "mimetype": "text/x-python",
   "name": "python",
   "nbconvert_exporter": "python",
   "pygments_lexer": "ipython3",
   "version": "3.9.13"
  }
 },
 "nbformat": 4,
 "nbformat_minor": 5
}
