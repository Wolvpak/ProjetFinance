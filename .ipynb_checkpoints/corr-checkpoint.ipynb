{
 "cells": [],
 "metadata": {
  "kernelspec": {
   "display_name": "Python 3 (Spyder)",
   "name": "python3"
  }
 },
 "nbformat": 4,
 "nbformat_minor": 5
}
