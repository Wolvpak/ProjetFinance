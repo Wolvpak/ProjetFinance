{
 "cells": [
  {
   "cell_type": "code",
   "execution_count": 2,
   "id": "31ec9e66",
   "metadata": {},
   "outputs": [
    {
     "name": "stdout",
     "output_type": "stream",
     "text": [
      "- 2MX.PA: No data found, symbol may be delisted\n",
      "- ASP.PA: No data found, symbol may be delisted\n",
      "- ACNV.PA: No data found, symbol may be delisted\n",
      "- ABIO.PA: No data found, symbol may be delisted\n",
      "- CDANV.PA: No data found, symbol may be delisted\n",
      "- ALMDS.PA: No data found, symbol may be delisted\n",
      "- ALM.PA: No data found, symbol may be delisted\n",
      "- ATA.PA: No data found, symbol may be delisted\n",
      "- FBEL.PA: No data found, symbol may be delisted\n",
      "- CAPLI.PA: No data found, symbol may be delisted\n",
      "- CGGBS.PA: No data found, symbol may be delisted\n",
      "- CNP.PA: No data found, symbol may be delisted\n",
      "- DLTA.PA: No data found, symbol may be delisted\n",
      "- DVT.PA: No data found, symbol may be delisted\n",
      "- DGM.PA: No data found, symbol may be delisted\n",
      "- GID.PA: No data found, symbol may be delisted\n",
      "- ECP.PA: No data found, symbol may be delisted\n",
      "- EUCAR.PA: No data found, symbol may be delisted\n",
      "- FAUV.PA: No data found, symbol may be delisted\n",
      "- FPN.PA: No data found, symbol may be delisted\n",
      "- FATL.PA: No data found, symbol may be delisted\n",
      "- LFDE.PA: No data found, symbol may be delisted\n",
      "- GENX.PA: No data found, symbol may be delisted\n",
      "- OPN.PA: No data found, symbol may be delisted\n",
      "- HOP.PA: No data found, symbol may be delisted\n",
      "- I2PO.PA: No data found, symbol may be delisted\n",
      "- I2POW.PA: No data found, symbol may be delisted\n",
      "- IGE.PA: No data found, symbol may be delisted\n",
      "- ILD.PA: No data found, symbol may be delisted\n",
      "- MBWBT.PA: No data found, symbol may be delisted\n",
      "- MUN.PA: No data found, symbol may be delisted\n",
      "- GREV.PA: No data found, symbol may be delisted\n",
      "- OLNV.PA: No data found, symbol may be delisted\n",
      "- PHA.PA: No data found, symbol may be delisted\n",
      "- PROL.PA: No data found, symbol may be delisted\n",
      "- PUBBS.PA: No data found, symbol may be delisted\n",
      "- TECBS.PA: No data found, symbol may be delisted\n",
      "- TCH.PA: No data found, symbol may be delisted\n",
      "- FTI.PA: No data found, symbol may be delisted\n",
      "- TES.PA: No data found, symbol may be delisted\n",
      "- VKBS.PA: No data found, symbol may be delisted\n",
      "- SDT.PA: No data found, symbol may be delisted\n",
      "- CV.PA: No data found, symbol may be delisted\n",
      "- ADVIC.PA: No data found, symbol may be delisted\n",
      "- AKA.PA: No data found, symbol may be delisted\n",
      "- SEV.PA: No data found, symbol may be delisted\n",
      "56.053811659192824 % of tickers are available\n"
     ]
    }
   ],
   "source": [
    "from main import get_market_data\n",
    "market_data = get_market_data(mean_volume = 3000)"
   ]
  },
  {
   "cell_type": "code",
   "execution_count": null,
   "id": "62db30fb",
   "metadata": {},
   "outputs": [],
   "source": []
  },
  {
   "cell_type": "code",
   "execution_count": null,
   "id": "474a7e2c",
   "metadata": {},
   "outputs": [],
   "source": [
    "import urllib.request\n",
    "import zipfile\n",
    "\n",
    "#ratios mensuels\n",
    "url = 'http://mba.tuck.dartmouth.edu/pages/faculty/ken.french/ftp/Europe_5_Factors_CSV.zip'\n",
    "\n",
    "#read data from url\n",
    "factors = pd.read_csv(url, skiprows=3).astype(str)\n",
    "factors.rename(columns = {factors.columns[0] : 'date'},inplace=True)\n",
    "\n",
    "#remove spacing problem\n",
    "for col in factors.columns : \n",
    "    factors[col] = factors[col].apply(lambda x : x.strip())\n",
    "\n",
    "#drop annual info at the end of file\n",
    "annual_factors_index_cut = factors[factors['date'] == 'Annual Factors: January-December'].index[0]\n",
    "factors.drop(factors.index[annual_factors_index_cut:], inplace=True)\n",
    "factors['date'] = pd.to_datetime(factors['date'], format = '%Y%m') + pd.offsets.MonthEnd()\n",
    "factors.iloc[:,1:] = factors.iloc[:,1:].astype(float)\n",
    "factors.iloc[:,1:] = factors.iloc[:,1:]/100\n",
    "factors = factors[factors['date'] > \"2016-01-01\"]\n",
    "factors.tail()\n",
    "\n",
    "#append monthly return from stock\n",
    "montly_returns = data.Close.resample('M').last().pct_change().dropna()\n",
    "montly_returns.name = \"Month_Rtn\"\n",
    "factors = factors.merge(montly_returns,on='date')\n",
    "factors.tail()"
   ]
  },
  {
   "cell_type": "code",
   "execution_count": null,
   "id": "f8321696",
   "metadata": {},
   "outputs": [],
   "source": [
    "#rolling regression avec daily => pb manque un mois\n",
    "X = factors[['Mkt-RF', 'SMB', 'HML', 'RMW', 'CMA']]\n",
    "y = factors['Month_Rtn'] - factors['RF']\n",
    "ff_model = sm.OLS(y, X).fit()\n",
    "print(ff_model.summary())\n",
    "b1, b2, b3, b4, b5 = ff_model.params\n",
    "\n",
    "rf = factors['RF'].mean()\n",
    "market_premium = factors['Mkt-RF'].mean()\n",
    "size_premium = factors['SMB'].mean()\n",
    "value_premium = factors['HML'].mean()\n",
    "rmw_premium = factors['RMW'].mean()\n",
    "cma_premium = factors['CMA'].mean()\n",
    "\n",
    "\n",
    "expected_monthly_return = rf + b1 * market_premium + b2 * size_premium + b3 * value_premium + b4 * rmw_premium + b5 * cma_premium \n",
    "expected_monthly_return"
   ]
  }
 ],
 "metadata": {
  "kernelspec": {
   "display_name": "Python 3 (Spyder)",
   "language": "python3",
   "name": "python3"
  },
  "language_info": {
   "codemirror_mode": {
    "name": "ipython",
    "version": 3
   },
   "file_extension": ".py",
   "mimetype": "text/x-python",
   "name": "python",
   "nbconvert_exporter": "python",
   "pygments_lexer": "ipython3",
   "version": "3.8.8"
  }
 },
 "nbformat": 4,
 "nbformat_minor": 5
}
